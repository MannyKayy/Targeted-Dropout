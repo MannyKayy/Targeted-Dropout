{
 "cells": [
  {
   "cell_type": "code",
   "execution_count": 1,
   "metadata": {},
   "outputs": [],
   "source": [
    "import numpy as np\n",
    "import tensorflow as tf\n",
    "import random as rn\n",
    "import os\n",
    "os.environ['PYTHONHASHSEED'] = '42'\n",
    "np.random.seed(42)\n",
    "rn.seed(42)\n",
    "tf.enable_eager_execution()\n",
    "session_conf = tf.ConfigProto(intra_op_parallelism_threads=1, inter_op_parallelism_threads=1)\n",
    "tf.set_random_seed(42)"
   ]
  },
  {
   "cell_type": "markdown",
   "metadata": {},
   "source": [
    "# Targeted Dropout"
   ]
  },
  {
   "cell_type": "markdown",
   "metadata": {},
   "source": [
    "Paper: https://openreview.net/pdf?id=HkghWScuoQ"
   ]
  },
  {
   "cell_type": "markdown",
   "metadata": {},
   "source": [
    "**Note** Accuracies are low as I am using very less data for the sake of analysis."
   ]
  },
  {
   "cell_type": "markdown",
   "metadata": {},
   "source": [
    "### Dependencies"
   ]
  },
  {
   "cell_type": "code",
   "execution_count": 2,
   "metadata": {},
   "outputs": [
    {
     "name": "stdout",
     "output_type": "stream",
     "text": [
      "Tensorflow:  1.12.0\n",
      "Matplotlib:  3.0.2\n",
      "Seaborn:  0.8.1\n",
      "Numpy:  1.15.4\n",
      "Pandas:  0.22.0\n"
     ]
    }
   ],
   "source": [
    "import tensorflow as tf; print(\"Tensorflow: \", tf.__version__)\n",
    "import matplotlib.pyplot as plt; import matplotlib; print(\"Matplotlib: \", matplotlib.__version__)\n",
    "import seaborn as sns; print(\"Seaborn: \", sns.__version__)\n",
    "import numpy as np; print(\"Numpy: \", np.__version__)\n",
    "import pandas as pd; print(\"Pandas: \", pd.__version__)\n",
    "from pprint import pprint\n",
    "mnist = tf.keras.datasets.mnist\n",
    "import dropout_functions"
   ]
  },
  {
   "cell_type": "markdown",
   "metadata": {},
   "source": [
    "## Using a small subset of MNIST data for fast analysis"
   ]
  },
  {
   "cell_type": "code",
   "execution_count": 4,
   "metadata": {},
   "outputs": [],
   "source": [
    "(x_train, y_train),(x_test, y_test) = mnist.load_data()\n",
    "x_train, x_test = x_train / 255.0, x_test / 255.0\n",
    "y_train = y_train.astype('int64')\n",
    "y_test = y_test.astype('int64')\n",
    "idx = np.random.choice(range(x_train.shape[0]),size=1000)\n",
    "x_train, y_train = x_train[idx], y_train[idx]\n",
    "idx = np.random.choice(range(x_train.shape[0]),size=100)\n",
    "x_test, y_test = x_test[idx], y_test[idx]"
   ]
  },
  {
   "cell_type": "markdown",
   "metadata": {},
   "source": [
    "## Vanilla Unregularized DNN"
   ]
  },
  {
   "cell_type": "code",
   "execution_count": 6,
   "metadata": {},
   "outputs": [],
   "source": [
    "def get_model_unregularized():\n",
    "    return tf.keras.models.Sequential([\n",
    "        tf.keras.layers.Flatten(),\n",
    "        tf.keras.layers.Dense(1000, activation=tf.nn.relu, use_bias=False, kernel_initializer=tf.keras.initializers.RandomNormal(seed=42)),\n",
    "        tf.keras.layers.Dense(1000, activation=tf.nn.relu, use_bias=False, kernel_initializer=tf.keras.initializers.RandomNormal(seed=42)),\n",
    "        tf.keras.layers.Dense(500, activation=tf.nn.relu, use_bias=False, kernel_initializer=tf.keras.initializers.RandomNormal(seed=42)),\n",
    "        tf.keras.layers.Dense(200, activation=tf.nn.relu, use_bias=False, kernel_initializer=tf.keras.initializers.RandomNormal(seed=42)),\n",
    "        tf.keras.layers.Dense(10, activation=tf.nn.softmax, use_bias=False, kernel_initializer=tf.keras.initializers.RandomNormal(seed=42))\n",
    "    ])"
   ]
  },
  {
   "cell_type": "code",
   "execution_count": 4,
   "metadata": {},
   "outputs": [
    {
     "name": "stdout",
     "output_type": "stream",
     "text": [
      "Epoch 1/5\n",
      " - 2s - loss: 1.0808 - acc: 0.6348\n",
      "Epoch 2/5\n",
      " - 2s - loss: 0.3311 - acc: 0.8906\n",
      "Epoch 3/5\n",
      " - 2s - loss: 0.1241 - acc: 0.9629\n",
      "Epoch 4/5\n",
      " - 1s - loss: 0.1132 - acc: 0.9629\n",
      "Epoch 5/5\n",
      " - 1s - loss: 0.1118 - acc: 0.9639\n",
      "['loss', 'acc'] [0.5702410328388214, 0.84]\n"
     ]
    }
   ],
   "source": [
    "model = get_model_unregularized()\n",
    "model.compile(optimizer=tf.train.AdamOptimizer(),\n",
    "              loss='sparse_categorical_crossentropy',\n",
    "              metrics=['accuracy'])\n",
    "model.fit(x_train, y_train, epochs=5,verbose=2, use_multiprocessing=True)\n",
    "print(model.metrics_names ,model.evaluate(x_test, y_test, verbose=2))"
   ]
  },
  {
   "cell_type": "code",
   "execution_count": 5,
   "metadata": {},
   "outputs": [
    {
     "data": {
      "image/png": "[encoded data removed]",
      "text/plain": [
       "<Figure size 1440x360 with 2 Axes>"
      ]
     },
     "metadata": {},
     "output_type": "display_data"
    }
   ],
   "source": [
    "df = pd.DataFrame(model.history.history)\n",
    "plt.figure(1, figsize=(20,5))\n",
    "plt.subplot(121)\n",
    "plt.plot(df[\"loss\"])\n",
    "plt.xticks(df.index)\n",
    "plt.xlabel('Epoch')\n",
    "plt.ylabel('Train Loss')\n",
    "plt.subplot(122)\n",
    "plt.plot(df[\"acc\"])\n",
    "plt.xticks(df.index)\n",
    "plt.xlabel('Epoch')\n",
    "plt.ylabel('Train Accuracy');\n",
    "plt.show()"
   ]
  },
  {
   "cell_type": "markdown",
   "metadata": {},
   "source": [
    "# Pruning Methods"
   ]
  },
  {
   "cell_type": "code",
   "execution_count": 9,
   "metadata": {},
   "outputs": [],
   "source": [
    "def mask_for_big_values(weights, pruning_threshold):\n",
    "    small_weights = np.abs(weights) < pruning_threshold\n",
    "    return np.logical_not(small_weights)\n",
    "\n",
    "def prune_weights(model, prune_rate=10):\n",
    "    weights = model.get_weights()\n",
    "    weight_matrices_tf = model.weights\n",
    "    for (w,\n",
    "         tf_weight_matrix,\n",
    "        ) in zip(\n",
    "         weights[:-1],\n",
    "         weight_matrices_tf[:-1],\n",
    "        ):\n",
    "        w_shape = w.shape\n",
    "        w = tf.reshape(w, [-1, w_shape[-1]])\n",
    "        norm = tf.abs(w)\n",
    "        idx = tf.to_int32(prune_rate/100 * tf.to_float(tf.shape(w)[0]))\n",
    "        threshold = tf.contrib.framework.sort(norm, axis=0)[idx]\n",
    "        mask = norm < threshold[None, :]\n",
    "        mask = tf.where(\n",
    "          mask,\n",
    "          tf.zeros_like(w, dtype=tf.float32), tf.ones_like(w, dtype=tf.float32))\n",
    "        w = mask * w\n",
    "        w = tf.reshape(w, w_shape)\n",
    "        tf_weight_matrix.assign(w)"
   ]
  },
  {
   "cell_type": "code",
   "execution_count": 10,
   "metadata": {},
   "outputs": [
    {
     "data": {
      "text/plain": [
       "[0.6017076951265335, 0.88]"
      ]
     },
     "execution_count": 10,
     "metadata": {},
     "output_type": "execute_result"
    }
   ],
   "source": [
    "model = get_model_unregularized()\n",
    "model.compile(optimizer=tf.train.AdamOptimizer(),\n",
    "          loss='sparse_categorical_crossentropy',\n",
    "          metrics=['accuracy'])\n",
    "model.fit(x_train, y_train, epochs=10,verbose=0)\n",
    "model.evaluate(x_test, y_test, verbose=0)"
   ]
  },
  {
   "cell_type": "markdown",
   "metadata": {},
   "source": [
    "### Distribution before pruning"
   ]
  },
  {
   "cell_type": "code",
   "execution_count": 51,
   "metadata": {},
   "outputs": [
    {
     "name": "stderr",
     "output_type": "stream",
     "text": [
      "/home/sharan/anaconda3/envs/GPUReady/lib/python3.6/site-packages/scipy/stats/stats.py:1706: FutureWarning: Using a non-tuple sequence for multidimensional indexing is deprecated; use `arr[tuple(seq)]` instead of `arr[seq]`. In the future this will be interpreted as an array index, `arr[np.array(seq)]`, which will result either in an error or a different result.\n",
      "  return np.add.reduce(sorted[indexer] * weights, axis=axis) / sumval\n",
      "/home/sharan/.local/lib/python3.6/site-packages/matplotlib/axes/_axes.py:6521: MatplotlibDeprecationWarning: \n",
      "The 'normed' kwarg was deprecated in Matplotlib 2.1 and will be removed in 3.1. Use 'density' instead.\n",
      "  alternative=\"'density'\", removal=\"3.1\")\n"
     ]
    },
    {
     "data": {
      "image/png": "[encoded data removed]",
      "text/plain": [
       "<Figure size 432x288 with 1 Axes>"
      ]
     },
     "metadata": {},
     "output_type": "display_data"
    }
   ],
   "source": [
    "sns.distplot(model.layers[1].get_weights()[0].flatten())\n",
    "plt.show()"
   ]
  },
  {
   "cell_type": "code",
   "execution_count": null,
   "metadata": {
    "scrolled": true
   },
   "outputs": [],
   "source": [
    "prune_weights(model, 10)\n",
    "model.compile(optimizer=tf.train.AdamOptimizer(),\n",
    "          loss='sparse_categorical_crossentropy',\n",
    "          metrics=['accuracy'])\n",
    "print(model.evaluate(x_test, y_test, verbose=0))\n",
    "[layer.units for layer in model.layers[1:]]"
   ]
  },
  {
   "cell_type": "markdown",
   "metadata": {},
   "source": [
    "### Distribution after pruning"
   ]
  },
  {
   "cell_type": "code",
   "execution_count": 45,
   "metadata": {},
   "outputs": [
    {
     "name": "stderr",
     "output_type": "stream",
     "text": [
      "/home/sharan/anaconda3/envs/GPUReady/lib/python3.6/site-packages/scipy/stats/stats.py:1706: FutureWarning: Using a non-tuple sequence for multidimensional indexing is deprecated; use `arr[tuple(seq)]` instead of `arr[seq]`. In the future this will be interpreted as an array index, `arr[np.array(seq)]`, which will result either in an error or a different result.\n",
      "  return np.add.reduce(sorted[indexer] * weights, axis=axis) / sumval\n",
      "/home/sharan/.local/lib/python3.6/site-packages/matplotlib/axes/_axes.py:6521: MatplotlibDeprecationWarning: \n",
      "The 'normed' kwarg was deprecated in Matplotlib 2.1 and will be removed in 3.1. Use 'density' instead.\n",
      "  alternative=\"'density'\", removal=\"3.1\")\n"
     ]
    },
    {
     "data": {
      "image/png": "[encoded data removed]",
      "text/plain": [
       "<Figure size 432x288 with 1 Axes>"
      ]
     },
     "metadata": {},
     "output_type": "display_data"
    }
   ],
   "source": [
    "sns.distplot(model.layers[1].get_weights()[0].flatten())\n",
    "plt.show()"
   ]
  },
  {
   "cell_type": "markdown",
   "metadata": {},
   "source": [
    "# Weight Targeted Dropout with Pruning"
   ]
  },
  {
   "cell_type": "code",
   "execution_count": 11,
   "metadata": {},
   "outputs": [
    {
     "data": {
      "image/png": "[encoded data removed]",
      "text/plain": [
       "<Figure size 432x288 with 1 Axes>"
      ]
     },
     "metadata": {},
     "output_type": "display_data"
    },
    {
     "data": {
      "text/html": [
       "<div>\n",
       "<style scoped>\n",
       "    .dataframe tbody tr th:only-of-type {\n",
       "        vertical-align: middle;\n",
       "    }\n",
       "\n",
       "    .dataframe tbody tr th {\n",
       "        vertical-align: top;\n",
       "    }\n",
       "\n",
       "    .dataframe thead th {\n",
       "        text-align: right;\n",
       "    }\n",
       "</style>\n",
       "<table border=\"1\" class=\"dataframe\">\n",
       "  <thead>\n",
       "    <tr style=\"text-align: right;\">\n",
       "      <th></th>\n",
       "      <th>unreg</th>\n",
       "      <th>(0.25, 0)</th>\n",
       "      <th>(0.33, 0.75)</th>\n",
       "      <th>(0.5, 0.75)</th>\n",
       "      <th>(0.66, 0.75)</th>\n",
       "      <th>(0.5, 0.5)</th>\n",
       "    </tr>\n",
       "    <tr>\n",
       "      <th>Pruning %</th>\n",
       "      <th></th>\n",
       "      <th></th>\n",
       "      <th></th>\n",
       "      <th></th>\n",
       "      <th></th>\n",
       "      <th></th>\n",
       "    </tr>\n",
       "  </thead>\n",
       "  <tbody>\n",
       "    <tr>\n",
       "      <th>0</th>\n",
       "      <td>0.83</td>\n",
       "      <td>0.89</td>\n",
       "      <td>0.86</td>\n",
       "      <td>0.88</td>\n",
       "      <td>0.89</td>\n",
       "      <td>0.85</td>\n",
       "    </tr>\n",
       "    <tr>\n",
       "      <th>10</th>\n",
       "      <td>0.83</td>\n",
       "      <td>0.89</td>\n",
       "      <td>0.86</td>\n",
       "      <td>0.88</td>\n",
       "      <td>0.89</td>\n",
       "      <td>0.85</td>\n",
       "    </tr>\n",
       "    <tr>\n",
       "      <th>20</th>\n",
       "      <td>0.83</td>\n",
       "      <td>0.88</td>\n",
       "      <td>0.86</td>\n",
       "      <td>0.88</td>\n",
       "      <td>0.89</td>\n",
       "      <td>0.85</td>\n",
       "    </tr>\n",
       "    <tr>\n",
       "      <th>30</th>\n",
       "      <td>0.83</td>\n",
       "      <td>0.89</td>\n",
       "      <td>0.86</td>\n",
       "      <td>0.88</td>\n",
       "      <td>0.89</td>\n",
       "      <td>0.85</td>\n",
       "    </tr>\n",
       "    <tr>\n",
       "      <th>40</th>\n",
       "      <td>0.84</td>\n",
       "      <td>0.87</td>\n",
       "      <td>0.86</td>\n",
       "      <td>0.88</td>\n",
       "      <td>0.89</td>\n",
       "      <td>0.85</td>\n",
       "    </tr>\n",
       "    <tr>\n",
       "      <th>50</th>\n",
       "      <td>0.85</td>\n",
       "      <td>0.89</td>\n",
       "      <td>0.86</td>\n",
       "      <td>0.88</td>\n",
       "      <td>0.89</td>\n",
       "      <td>0.85</td>\n",
       "    </tr>\n",
       "    <tr>\n",
       "      <th>60</th>\n",
       "      <td>0.88</td>\n",
       "      <td>0.89</td>\n",
       "      <td>0.86</td>\n",
       "      <td>0.88</td>\n",
       "      <td>0.89</td>\n",
       "      <td>0.84</td>\n",
       "    </tr>\n",
       "    <tr>\n",
       "      <th>70</th>\n",
       "      <td>0.87</td>\n",
       "      <td>0.89</td>\n",
       "      <td>0.86</td>\n",
       "      <td>0.88</td>\n",
       "      <td>0.89</td>\n",
       "      <td>0.83</td>\n",
       "    </tr>\n",
       "    <tr>\n",
       "      <th>80</th>\n",
       "      <td>0.84</td>\n",
       "      <td>0.88</td>\n",
       "      <td>0.81</td>\n",
       "      <td>0.85</td>\n",
       "      <td>0.88</td>\n",
       "      <td>0.81</td>\n",
       "    </tr>\n",
       "    <tr>\n",
       "      <th>90</th>\n",
       "      <td>0.79</td>\n",
       "      <td>0.84</td>\n",
       "      <td>0.75</td>\n",
       "      <td>0.79</td>\n",
       "      <td>0.87</td>\n",
       "      <td>0.83</td>\n",
       "    </tr>\n",
       "  </tbody>\n",
       "</table>\n",
       "</div>"
      ],
      "text/plain": [
       "          unreg (0.25, 0) (0.33, 0.75) (0.5, 0.75) (0.66, 0.75) (0.5, 0.5)\n",
       "Pruning %                                                                 \n",
       "0          0.83      0.89         0.86        0.88         0.89       0.85\n",
       "10         0.83      0.89         0.86        0.88         0.89       0.85\n",
       "20         0.83      0.88         0.86        0.88         0.89       0.85\n",
       "30         0.83      0.89         0.86        0.88         0.89       0.85\n",
       "40         0.84      0.87         0.86        0.88         0.89       0.85\n",
       "50         0.85      0.89         0.86        0.88         0.89       0.85\n",
       "60         0.88      0.89         0.86        0.88         0.89       0.84\n",
       "70         0.87      0.89         0.86        0.88         0.89       0.83\n",
       "80         0.84      0.88         0.81        0.85         0.88       0.81\n",
       "90         0.79      0.84         0.75        0.79         0.87       0.83"
      ]
     },
     "execution_count": 11,
     "metadata": {},
     "output_type": "execute_result"
    }
   ],
   "source": [
    "confs = [\"unreg\", (0.25, 0), (0.33, 0.75), (0.5,0.75),(0.66,0.75),(0.5, 0.5)]\n",
    "dfw = pd.DataFrame(columns=confs, index=range(0,100,10))\n",
    "for conf in confs:\n",
    "    if conf==\"unreg\":\n",
    "        model = get_model_unregularized()\n",
    "    else:\n",
    "        model = dropout_functions.get_targeted_dropout_model(\"weight\", conf)\n",
    "    \n",
    "    model.compile(optimizer=tf.train.AdamOptimizer(),\n",
    "          loss='sparse_categorical_crossentropy',\n",
    "          metrics=['accuracy'])\n",
    "    model.fit(x_train, y_train, epochs=10,verbose=0)\n",
    "    for pruning in range(0,100,10):\n",
    "        prune_weights(model, pruning)\n",
    "        dfw[conf][pruning] = model.evaluate(x_test, y_test, verbose=0)[1]\n",
    "dfw.index.name = \"Pruning %\"\n",
    "dfw.plot();\n",
    "plt.xlabel(\"Pruning %\")\n",
    "plt.ylabel(\"Accuracy\")\n",
    "plt.title(\"(Dropout Rate, Target Rate)\")\n",
    "plt.show();\n",
    "dfw"
   ]
  },
  {
   "cell_type": "markdown",
   "metadata": {},
   "source": [
    "# Unit Targeted Dropout with Pruning"
   ]
  },
  {
   "cell_type": "code",
   "execution_count": 12,
   "metadata": {},
   "outputs": [
    {
     "data": {
      "image/png": "[encoded data removed]",
      "text/plain": [
       "<Figure size 432x288 with 1 Axes>"
      ]
     },
     "metadata": {},
     "output_type": "display_data"
    },
    {
     "data": {
      "text/html": [
       "<div>\n",
       "<table border=\"1\" class=\"dataframe\">\n",
       "  <thead>\n",
       "    <tr style=\"text-align: right;\">\n",
       "      <th></th>\n",
       "      <th>unreg</th>\n",
       "      <th>(0.25, 0)</th>\n",
       "      <th>(0.33, 0.75)</th>\n",
       "      <th>(0.5, 0.75)</th>\n",
       "      <th>(0.66, 0.75)</th>\n",
       "      <th>(0.5, 0.5)</th>\n",
       "    </tr>\n",
       "    <tr>\n",
       "      <th>Pruning %</th>\n",
       "      <th></th>\n",
       "      <th></th>\n",
       "      <th></th>\n",
       "      <th></th>\n",
       "      <th></th>\n",
       "      <th></th>\n",
       "    </tr>\n",
       "  </thead>\n",
       "  <tbody>\n",
       "    <tr>\n",
       "      <th>0</th>\n",
       "      <td>0.88</td>\n",
       "      <td>0.67</td>\n",
       "      <td>0.81</td>\n",
       "      <td>0.72</td>\n",
       "      <td>0.68</td>\n",
       "      <td>0.8</td>\n",
       "    </tr>\n",
       "    <tr>\n",
       "      <th>10</th>\n",
       "      <td>0.88</td>\n",
       "      <td>0.68</td>\n",
       "      <td>0.79</td>\n",
       "      <td>0.73</td>\n",
       "      <td>0.7</td>\n",
       "      <td>0.77</td>\n",
       "    </tr>\n",
       "    <tr>\n",
       "      <th>20</th>\n",
       "      <td>0.87</td>\n",
       "      <td>0.66</td>\n",
       "      <td>0.81</td>\n",
       "      <td>0.71</td>\n",
       "      <td>0.69</td>\n",
       "      <td>0.8</td>\n",
       "    </tr>\n",
       "    <tr>\n",
       "      <th>30</th>\n",
       "      <td>0.87</td>\n",
       "      <td>0.68</td>\n",
       "      <td>0.83</td>\n",
       "      <td>0.72</td>\n",
       "      <td>0.66</td>\n",
       "      <td>0.76</td>\n",
       "    </tr>\n",
       "    <tr>\n",
       "      <th>40</th>\n",
       "      <td>0.88</td>\n",
       "      <td>0.69</td>\n",
       "      <td>0.84</td>\n",
       "      <td>0.7</td>\n",
       "      <td>0.7</td>\n",
       "      <td>0.78</td>\n",
       "    </tr>\n",
       "    <tr>\n",
       "      <th>50</th>\n",
       "      <td>0.87</td>\n",
       "      <td>0.68</td>\n",
       "      <td>0.78</td>\n",
       "      <td>0.73</td>\n",
       "      <td>0.66</td>\n",
       "      <td>0.77</td>\n",
       "    </tr>\n",
       "    <tr>\n",
       "      <th>60</th>\n",
       "      <td>0.87</td>\n",
       "      <td>0.64</td>\n",
       "      <td>0.76</td>\n",
       "      <td>0.68</td>\n",
       "      <td>0.67</td>\n",
       "      <td>0.75</td>\n",
       "    </tr>\n",
       "    <tr>\n",
       "      <th>70</th>\n",
       "      <td>0.87</td>\n",
       "      <td>0.62</td>\n",
       "      <td>0.78</td>\n",
       "      <td>0.65</td>\n",
       "      <td>0.66</td>\n",
       "      <td>0.72</td>\n",
       "    </tr>\n",
       "    <tr>\n",
       "      <th>80</th>\n",
       "      <td>0.84</td>\n",
       "      <td>0.57</td>\n",
       "      <td>0.71</td>\n",
       "      <td>0.5</td>\n",
       "      <td>0.5</td>\n",
       "      <td>0.6</td>\n",
       "    </tr>\n",
       "    <tr>\n",
       "      <th>90</th>\n",
       "      <td>0.79</td>\n",
       "      <td>0.29</td>\n",
       "      <td>0.57</td>\n",
       "      <td>0.46</td>\n",
       "      <td>0.52</td>\n",
       "      <td>0.41</td>\n",
       "    </tr>\n",
       "  </tbody>\n",
       "</table>\n",
       "</div>"
      ],
      "text/plain": [
       "          unreg (0.25, 0) (0.33, 0.75) (0.5, 0.75) (0.66, 0.75) (0.5, 0.5)\n",
       "Pruning %                                                                 \n",
       "0          0.88      0.67         0.81        0.72         0.68        0.8\n",
       "10         0.88      0.68         0.79        0.73          0.7       0.77\n",
       "20         0.87      0.66         0.81        0.71         0.69        0.8\n",
       "30         0.87      0.68         0.83        0.72         0.66       0.76\n",
       "40         0.88      0.69         0.84         0.7          0.7       0.78\n",
       "50         0.87      0.68         0.78        0.73         0.66       0.77\n",
       "60         0.87      0.64         0.76        0.68         0.67       0.75\n",
       "70         0.87      0.62         0.78        0.65         0.66       0.72\n",
       "80         0.84      0.57         0.71         0.5          0.5        0.6\n",
       "90         0.79      0.29         0.57        0.46         0.52       0.41"
      ]
     },
     "execution_count": 12,
     "metadata": {},
     "output_type": "execute_result"
    }
   ],
   "source": [
    "confs = [\"unreg\", (0.25, 0), (0.33, 0.75), (0.5,0.75),(0.66,0.75),(0.5, 0.5)]\n",
    "\n",
    "dfu = pd.DataFrame(columns=confs, index=range(0,100,10))\n",
    "for conf in confs:\n",
    "    if conf==\"unreg\":\n",
    "        model = get_model_unregularized()\n",
    "    else:\n",
    "        model = dropout_functions.get_targeted_dropout_model(\"unit\", conf)\n",
    "    \n",
    "    model.compile(optimizer=tf.train.AdamOptimizer(),\n",
    "          loss='sparse_categorical_crossentropy',\n",
    "          metrics=['accuracy'])\n",
    "    model.fit(x_train, y_train, epochs=5,verbose=0)\n",
    "    for pruning in range(0,100,10):\n",
    "        prune_weights(model, pruning)\n",
    "        model.compile(optimizer=tf.train.AdamOptimizer(),\n",
    "          loss='sparse_categorical_crossentropy',\n",
    "          metrics=['accuracy'])\n",
    "        dfu[conf][pruning] = model.evaluate(x_test, y_test, verbose=0)[1]\n",
    "dfu.index.name = \"Pruning %\"\n",
    "dfu.plot();\n",
    "plt.xlabel(\"Pruning %\")\n",
    "plt.ylabel(\"Accuracy\")\n",
    "plt.title(\"(Dropout Rate, Target Rate)\")\n",
    "plt.show()\n",
    "dfu"
   ]
  },
  {
   "cell_type": "markdown",
   "metadata": {},
   "source": [
    "# Analysis\n",
    "Weights Pruning simplified, is setting a set of cells of less consequence in a matrix to 0 after training. And Weight Dropout uses similar idea while training. We are deleting connections.\n",
    "\n",
    "Unit Pruning and Dropout similarly extends the idea to an entire neuron. Here we delete rows and corresponing columns(in the next layer) in the weight matrices which are of less consequence.\n",
    "\n",
    "We can see that weight targeted dropout gives comparable accuracies until ~70% pruning where as unit targeted pruning loses accuracies after ~40% pruning. \n",
    "\n",
    "Different combination of targeted rate and dropout rate are good for unit dropout and weight dropout. Unit dropout does best with `(alpha= 0.33, gamma= 0.75)` configuration whereas weight dropout does well with `(alpha=0.5, gamma=0.5)` configuration. \n",
    "\n",
    "This might be a model dependent phenomenon.\n",
    "\n",
    "### General Advantages of Pruning:\n",
    "- Reduce Model Size\n",
    "- Decrease inference/prediction time and computation\n",
    "- Introduces some amount of regularization.\n",
    "\n",
    "### General Advantages of Dropout:\n",
    "- Regularization\n",
    "- Reduces/prevents dominance of few connections or neurons.\n",
    "\n",
    "### Contributions of Targeted Dropout:\n",
    "- Ignoring connections or neurons with less magnitude. Stochasticity gives the connections and neurons multiple chances to contribute to the decision procedure.\n",
    "- The goal is opposite to vanilla dropout's goal, to ignore less efficient connections/neurons.\n",
    "- Model building simplified, i.e, we could start with a very general model and let the dropout+pruning decide the best model size.\n"
   ]
  },
  {
   "cell_type": "markdown",
   "metadata": {},
   "source": [
    "# Further Work \n",
    "\n",
    "## Layer wise Pruning and Targeted Dropout\n",
    "\n",
    "Extrapolating this idea, we could do the same with entire layers. We could essentially fuse layers. This might prove very useful in deep networks.\n",
    "\n",
    "We can look for nonlinearities present between layers which are not contributing to the performance. By removing such non-linearities, we are left with pairs of weight matrices, which can be \"fused\" by multiplying them.\n",
    "\n",
    "Some metrics to find such non-linearities:\n",
    "- L2 or L1 distance between `layer2(layer1(input))` and `fusedLayer(input)`.\n",
    "- L2 or L1 norm of gradients of pairs of layers. To weigh their contribution to the final performance.\n",
    "\n",
    "## Combination of Vanilla Dropout and Targeted Dropout\n",
    "Why? \n",
    "I believe Vanilla Dropout and Targeted Dropout are trying to achieve opposite goals.\n",
    "\n",
    "Former is trying to make weaker connections/neruons stronger and also avoiding dependency on small set of connections or neurons. Latter is trying to ignore weakly performing connections/neruons while giving them a fair chance to recover.\n",
    "\n",
    "A combination of both might help us acheive robustness as well as better model efficiency at the same time.\n"
   ]
  }
 ],
 "metadata": {
  "kernelspec": {
   "display_name": "Python (GPUReady)",
   "language": "python",
   "name": "gpuready"
  },
  "language_info": {
   "codemirror_mode": {
    "name": "ipython",
    "version": 3
   },
   "file_extension": ".py",
   "mimetype": "text/x-python",
   "name": "python",
   "nbconvert_exporter": "python",
   "pygments_lexer": "ipython3",
   "version": "3.6.4"
  }
 },
 "nbformat": 4,
 "nbformat_minor": 2
}
