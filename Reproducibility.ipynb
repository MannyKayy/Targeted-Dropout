{
 "cells": [
  {
   "cell_type": "markdown",
   "metadata": {},
   "source": [
    "## To demonstrate lack of reproducibility with TensorFlow"
   ]
  },
  {
   "cell_type": "code",
   "execution_count": 1,
   "metadata": {},
   "outputs": [],
   "source": [
    "import numpy as np\n",
    "import tensorflow as tf\n",
    "import random as rn\n",
    "import os\n",
    "os.environ['PYTHONHASHSEED'] = '42'\n",
    "np.random.seed(42)\n",
    "rn.seed(42)\n",
    "tf.enable_eager_execution()\n",
    "session_conf = tf.ConfigProto(intra_op_parallelism_threads=1, inter_op_parallelism_threads=1)\n",
    "tf.set_random_seed(42)"
   ]
  },
  {
   "cell_type": "code",
   "execution_count": 2,
   "metadata": {},
   "outputs": [
    {
     "name": "stdout",
     "output_type": "stream",
     "text": [
      "Tensorflow:  1.12.0\n",
      "Matplotlib:  3.0.2\n",
      "Seaborn:  0.8.1\n",
      "Numpy:  1.15.4\n",
      "Pandas:  0.22.0\n"
     ]
    }
   ],
   "source": [
    "import tensorflow as tf; print(\"Tensorflow: \", tf.__version__)\n",
    "import matplotlib.pyplot as plt; import matplotlib; print(\"Matplotlib: \", matplotlib.__version__)\n",
    "import seaborn as sns; print(\"Seaborn: \", sns.__version__)\n",
    "import numpy as np; print(\"Numpy: \", np.__version__)\n",
    "import pandas as pd; print(\"Pandas: \", pd.__version__)\n",
    "from pprint import pprint\n",
    "mnist = tf.keras.datasets.mnist"
   ]
  },
  {
   "cell_type": "code",
   "execution_count": 3,
   "metadata": {},
   "outputs": [],
   "source": [
    "(x_train, y_train),(x_test, y_test) = mnist.load_data()\n",
    "x_train, x_test = x_train / 255.0, x_test / 255.0\n",
    "y_train = y_train.astype('int64')\n",
    "y_test = y_test.astype('int64')\n",
    "idx = np.random.choice(range(x_train.shape[0]),size=1000)\n",
    "x_train, y_train = x_train[idx], y_train[idx]\n",
    "idx = np.random.choice(range(x_train.shape[0]),size=100)\n",
    "x_test, y_test = x_test[idx], y_test[idx]"
   ]
  },
  {
   "cell_type": "code",
   "execution_count": 4,
   "metadata": {},
   "outputs": [],
   "source": [
    "def get_model_unregularized():\n",
    "    return tf.keras.models.Sequential([\n",
    "        tf.keras.layers.Flatten(),\n",
    "        tf.keras.layers.Dense(1000, activation=tf.nn.relu, use_bias=False),\n",
    "        tf.keras.layers.Dense(1000, activation=tf.nn.relu, use_bias=False),\n",
    "        tf.keras.layers.Dense(500, activation=tf.nn.relu, use_bias=False),\n",
    "        tf.keras.layers.Dense(200, activation=tf.nn.relu, use_bias=False),\n",
    "        tf.keras.layers.Dense(10, activation=tf.nn.softmax, use_bias=False)\n",
    "    ])"
   ]
  },
  {
   "cell_type": "code",
   "execution_count": 5,
   "metadata": {},
   "outputs": [
    {
     "data": {
      "text/plain": [
       "(0.76, 0.8)"
      ]
     },
     "execution_count": 5,
     "metadata": {},
     "output_type": "execute_result"
    }
   ],
   "source": [
    "model1 = get_model_unregularized()\n",
    "model2 = get_model_unregularized()\n",
    "model1.compile(optimizer=tf.train.AdamOptimizer(),\n",
    "          loss='sparse_categorical_crossentropy',\n",
    "          metrics=['accuracy'])\n",
    "model2.compile(optimizer=tf.train.AdamOptimizer(),\n",
    "          loss='sparse_categorical_crossentropy',\n",
    "          metrics=['accuracy'])\n",
    "\n",
    "model1.fit(x_train, y_train, epochs=1,verbose=0)\n",
    "model2.fit(x_train, y_train, epochs=1,verbose=0)\n",
    "\n",
    "model1.evaluate(x_test, y_test, verbose=0)[1], model2.evaluate(x_test, y_test, verbose=0)[1]"
   ]
  },
  {
   "cell_type": "code",
   "execution_count": null,
   "metadata": {},
   "outputs": [],
   "source": []
  }
 ],
 "metadata": {
  "kernelspec": {
   "display_name": "Python (GPUReady)",
   "language": "python",
   "name": "gpuready"
  },
  "language_info": {
   "codemirror_mode": {
    "name": "ipython",
    "version": 3
   },
   "file_extension": ".py",
   "mimetype": "text/x-python",
   "name": "python",
   "nbconvert_exporter": "python",
   "pygments_lexer": "ipython3",
   "version": "3.6.4"
  }
 },
 "nbformat": 4,
 "nbformat_minor": 2
}
